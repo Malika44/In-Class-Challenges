{
  "nbformat": 4,
  "nbformat_minor": 0,
  "metadata": {
    "colab": {
      "provenance": [],
      "authorship_tag": "ABX9TyNbBnsqjyOc2LxpSoCBqQtP",
      "include_colab_link": true
    },
    "kernelspec": {
      "name": "python3",
      "display_name": "Python 3"
    },
    "language_info": {
      "name": "python"
    }
  },
  "cells": [
    {
      "cell_type": "markdown",
      "metadata": {
        "id": "view-in-github",
        "colab_type": "text"
      },
      "source": [
        "<a href=\"https://colab.research.google.com/github/Malika44/In-Class-Challenges/blob/main/In_class_challange_stars_triangle.ipynb\" target=\"_parent\"><img src=\"https://colab.research.google.com/assets/colab-badge.svg\" alt=\"Open In Colab\"/></a>"
      ]
    },
    {
      "cell_type": "code",
      "execution_count": 1,
      "metadata": {
        "colab": {
          "base_uri": "https://localhost:8080/"
        },
        "id": "Nf5_loZwQnOQ",
        "outputId": "b117a8c1-d9a5-4bb9-a5ed-cb0baea776e2"
      },
      "outputs": [
        {
          "output_type": "stream",
          "name": "stdout",
          "text": [
            "Enter the height of the triangle: 4\n",
            "\n",
            "Symmetric Triangle:\n",
            "   *\n",
            "  ***\n",
            " *****\n",
            "*******\n",
            "\n",
            "Left-Justified Triangle:\n",
            "*\n",
            "**\n",
            "***\n",
            "****\n",
            "\n",
            "Right-Justified Triangle:\n",
            "   *\n",
            "  **\n",
            " ***\n",
            "****\n"
          ]
        }
      ],
      "source": [
        "height = int(input(\"Enter the height of the triangle: \"))\n",
        "\n",
        "print(\"\\nSymmetric Triangle:\")\n",
        "for i in range(1, height + 1):\n",
        "    spaces = height - i\n",
        "    stars = 2 * i - 1\n",
        "    print(\" \" * spaces + \"*\" * stars)\n",
        "\n",
        "print(\"\\nLeft-Justified Triangle:\")\n",
        "for i in range(1, height + 1):\n",
        "    print(\"*\" * i)\n",
        "\n",
        "print(\"\\nRight-Justified Triangle:\")\n",
        "for i in range(1, height + 1):\n",
        "    spaces = height - i\n",
        "    print(\" \" * spaces + \"*\" * i)"
      ]
    }
  ]
}