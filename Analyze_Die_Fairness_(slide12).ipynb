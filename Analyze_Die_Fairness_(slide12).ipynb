{
  "nbformat": 4,
  "nbformat_minor": 0,
  "metadata": {
    "colab": {
      "provenance": [],
      "authorship_tag": "ABX9TyOJ7G1pEsDOENxeryAb67sl",
      "include_colab_link": true
    },
    "kernelspec": {
      "name": "python3",
      "display_name": "Python 3"
    },
    "language_info": {
      "name": "python"
    }
  },
  "cells": [
    {
      "cell_type": "markdown",
      "metadata": {
        "id": "view-in-github",
        "colab_type": "text"
      },
      "source": [
        "<a href=\"https://colab.research.google.com/github/Malika44/In-Class-Challenges/blob/main/Analyze_Die_Fairness_(slide12).ipynb\" target=\"_parent\"><img src=\"https://colab.research.google.com/assets/colab-badge.svg\" alt=\"Open In Colab\"/></a>"
      ]
    },
    {
      "cell_type": "code",
      "execution_count": 1,
      "metadata": {
        "colab": {
          "base_uri": "https://localhost:8080/"
        },
        "id": "r8LKpliggI1b",
        "outputId": "d8729d77-9014-447b-9fb0-d352f2eebd0a"
      },
      "outputs": [
        {
          "output_type": "stream",
          "name": "stdout",
          "text": [
            "Die Face Frequencies:\n",
            "1: 2\n",
            "2: 1\n",
            "3: 1\n",
            "4: 1\n",
            "5: 1\n",
            "6: 2\n"
          ]
        }
      ],
      "source": [
        "def analyze_die_fairness(rolls):\n",
        "\n",
        "    frequency = {face: 0 for face in range(1, 7)}\n",
        "\n",
        "\n",
        "    for roll in rolls:\n",
        "        if roll in frequency:\n",
        "            frequency[roll] += 1\n",
        "        else:\n",
        "            print(f\"Invalid die roll: {roll}\")\n",
        "\n",
        "\n",
        "    print(\"Die Face Frequencies:\")\n",
        "    for face in range(1, 7):\n",
        "        print(f\"{face}: {frequency[face]}\")\n",
        "\n",
        "\n",
        "rolls = [1, 2, 1, 3, 4, 6, 5, 6]\n",
        "analyze_die_fairness(rolls)"
      ]
    }
  ]
}