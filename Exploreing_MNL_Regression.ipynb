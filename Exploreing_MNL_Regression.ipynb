{
  "nbformat": 4,
  "nbformat_minor": 0,
  "metadata": {
    "colab": {
      "provenance": [],
      "authorship_tag": "ABX9TyM7CzffkDRaLkhLCHnsYyv7",
      "include_colab_link": true
    },
    "kernelspec": {
      "name": "python3",
      "display_name": "Python 3"
    },
    "language_info": {
      "name": "python"
    }
  },
  "cells": [
    {
      "cell_type": "markdown",
      "metadata": {
        "id": "view-in-github",
        "colab_type": "text"
      },
      "source": [
        "<a href=\"https://colab.research.google.com/github/Malika44/In-Class-Challenges/blob/main/Exploreing_MNL_Regression.ipynb\" target=\"_parent\"><img src=\"https://colab.research.google.com/assets/colab-badge.svg\" alt=\"Open In Colab\"/></a>"
      ]
    },
    {
      "cell_type": "code",
      "execution_count": 6,
      "metadata": {
        "colab": {
          "base_uri": "https://localhost:8080/"
        },
        "id": "S9pUnCQDHO0X",
        "outputId": "129356e3-54bc-461e-e79f-c9b11ae46f3d"
      },
      "outputs": [
        {
          "output_type": "stream",
          "name": "stdout",
          "text": [
            "Requirement already satisfied: ucimlrepo in /usr/local/lib/python3.11/dist-packages (0.0.7)\n",
            "Requirement already satisfied: pandas>=1.0.0 in /usr/local/lib/python3.11/dist-packages (from ucimlrepo) (2.2.2)\n",
            "Requirement already satisfied: certifi>=2020.12.5 in /usr/local/lib/python3.11/dist-packages (from ucimlrepo) (2025.4.26)\n",
            "Requirement already satisfied: numpy>=1.23.2 in /usr/local/lib/python3.11/dist-packages (from pandas>=1.0.0->ucimlrepo) (2.0.2)\n",
            "Requirement already satisfied: python-dateutil>=2.8.2 in /usr/local/lib/python3.11/dist-packages (from pandas>=1.0.0->ucimlrepo) (2.9.0.post0)\n",
            "Requirement already satisfied: pytz>=2020.1 in /usr/local/lib/python3.11/dist-packages (from pandas>=1.0.0->ucimlrepo) (2025.2)\n",
            "Requirement already satisfied: tzdata>=2022.7 in /usr/local/lib/python3.11/dist-packages (from pandas>=1.0.0->ucimlrepo) (2025.2)\n",
            "Requirement already satisfied: six>=1.5 in /usr/local/lib/python3.11/dist-packages (from python-dateutil>=2.8.2->pandas>=1.0.0->ucimlrepo) (1.17.0)\n"
          ]
        }
      ],
      "source": [
        "pip install ucimlrepo"
      ]
    },
    {
      "cell_type": "code",
      "source": [
        "from ucimlrepo import fetch_ucirepo\n",
        "import pandas as pd\n",
        "student_performance = fetch_ucirepo(id=320)\n",
        "X = student_performance.data.features\n",
        "y = student_performance.data.targets\n",
        "data = pd.concat([X, y], axis=1)\n",
        "print(data.head())"
      ],
      "metadata": {
        "colab": {
          "base_uri": "https://localhost:8080/"
        },
        "id": "0fviX422wLGR",
        "outputId": "8651bcaa-664a-4844-8fd6-2f54bd6ad54f"
      },
      "execution_count": 10,
      "outputs": [
        {
          "output_type": "stream",
          "name": "stdout",
          "text": [
            "  school sex  age address famsize Pstatus  Medu  Fedu     Mjob      Fjob  ...  \\\n",
            "0     GP   F   18       U     GT3       A     4     4  at_home   teacher  ...   \n",
            "1     GP   F   17       U     GT3       T     1     1  at_home     other  ...   \n",
            "2     GP   F   15       U     LE3       T     1     1  at_home     other  ...   \n",
            "3     GP   F   15       U     GT3       T     4     2   health  services  ...   \n",
            "4     GP   F   16       U     GT3       T     3     3    other     other  ...   \n",
            "\n",
            "  famrel freetime  goout  Dalc  Walc health absences  G1  G2  G3  \n",
            "0      4        3      4     1     1      3        4   0  11  11  \n",
            "1      5        3      3     1     1      3        2   9  11  11  \n",
            "2      4        3      2     2     3      3        6  12  13  12  \n",
            "3      3        2      2     1     1      5        0  14  14  14  \n",
            "4      4        3      2     1     2      5        0  11  13  13  \n",
            "\n",
            "[5 rows x 33 columns]\n"
          ]
        }
      ]
    },
    {
      "cell_type": "markdown",
      "source": [
        "Step 1: Recode the Target Variable\n",
        "Recode G3\n",
        " into 3 categories:\n",
        "\n",
        "• Low (0–9), Medium (10–14), High (15–20)"
      ],
      "metadata": {
        "id": "9AiNMPSRwdXZ"
      }
    },
    {
      "cell_type": "code",
      "source": [
        "def recode_g3(g):\n",
        "    if g <= 9:\n",
        "        return 'Low'\n",
        "    elif g <= 14:\n",
        "        return 'Medium'\n",
        "    else:\n",
        "        return 'High'\n",
        "\n",
        "data['G3_cat'] = data['G3'].apply(recode_g3)\n",
        "print(data['G3_cat'].value_counts())"
      ],
      "metadata": {
        "colab": {
          "base_uri": "https://localhost:8080/"
        },
        "id": "9CfqOI8KweuT",
        "outputId": "9a15c2dc-4c2b-4844-c737-f4433c260e26"
      },
      "execution_count": 14,
      "outputs": [
        {
          "output_type": "stream",
          "name": "stdout",
          "text": [
            "G3_cat\n",
            "Medium    418\n",
            "High      131\n",
            "Low       100\n",
            "Name: count, dtype: int64\n"
          ]
        }
      ]
    },
    {
      "cell_type": "markdown",
      "source": [
        "Task 1: Explore the Data"
      ],
      "metadata": {
        "id": "23ToO1WNySyP"
      }
    },
    {
      "cell_type": "code",
      "source": [
        "import seaborn as sns\n",
        "import matplotlib.pyplot as plt\n",
        "sns.boxplot(x='G3_cat', y='studytime', data=data)\n",
        "plt.title(\"Study Time Across Performance Categories\")\n",
        "plt.xlabel(\"Performance Category\")\n",
        "plt.ylabel(\"Study Time\")\n",
        "plt.show()"
      ],
      "metadata": {
        "colab": {
          "base_uri": "https://localhost:8080/",
          "height": 472
        },
        "id": "uLNqvbNRyHjf",
        "outputId": "648ccd94-7a44-46a6-a2a6-1b0b5516358b"
      },
      "execution_count": 15,
      "outputs": [
        {
          "output_type": "display_data",
          "data": {
            "text/plain": [
              "<Figure size 640x480 with 1 Axes>"
            ],
            "image/png": "[encoded data removed]"
          },
          "metadata": {}
        }
      ]
    },
    {
      "cell_type": "markdown",
      "source": [
        "Task 2: Fit the Multinomial Logistic Regression Model"
      ],
      "metadata": {
        "id": "T6_OIK0uyYQf"
      }
    },
    {
      "cell_type": "code",
      "source": [
        "data_model = data[['studytime', 'failures', 'absences', 'sex', 'G3_cat']]\n",
        "data_model = pd.get_dummies(data_model, columns=['sex'], drop_first=True)\n",
        "from sklearn.model_selection import train_test_split\n",
        "X = data_model.drop(columns=['G3_cat'])\n",
        "y = data_model['G3_cat']\n",
        "X_train, X_test, y_train, y_test = train_test_split(X, y, stratify=y, test_size=0.2, random_state=0)\n",
        "from sklearn.linear_model import LogisticRegression\n",
        "model = LogisticRegression(multi_class='multinomial', solver='lbfgs', max_iter=1000)\n",
        "model.fit(X_train, y_train)\n",
        "print(\"Baseline class: Low \")\n"
      ],
      "metadata": {
        "colab": {
          "base_uri": "https://localhost:8080/"
        },
        "id": "rhN4upxryVMI",
        "outputId": "8bff50ff-e23a-4eca-8b26-ffeea81ad926"
      },
      "execution_count": 17,
      "outputs": [
        {
          "output_type": "stream",
          "name": "stdout",
          "text": [
            "Baseline class: Low \n"
          ]
        },
        {
          "output_type": "stream",
          "name": "stderr",
          "text": [
            "/usr/local/lib/python3.11/dist-packages/sklearn/linear_model/_logistic.py:1247: FutureWarning: 'multi_class' was deprecated in version 1.5 and will be removed in 1.7. From then on, it will always use 'multinomial'. Leave it to its default value to avoid this warning.\n",
            "  warnings.warn(\n"
          ]
        }
      ]
    },
    {
      "cell_type": "markdown",
      "source": [
        " Task 3: Interpret One Coefficient"
      ],
      "metadata": {
        "id": "ZVrqOYCjyqko"
      }
    },
    {
      "cell_type": "code",
      "source": [
        "import numpy as np\n",
        "coeff_df = pd.DataFrame(model.coef_, columns=X.columns, index=model.classes_)\n",
        "print(coeff_df.loc['High', 'studytime'])"
      ],
      "metadata": {
        "colab": {
          "base_uri": "https://localhost:8080/"
        },
        "id": "r-mzZFYUythe",
        "outputId": "c070b5e0-b401-427a-e8d7-bad8c1c20536"
      },
      "execution_count": 18,
      "outputs": [
        {
          "output_type": "stream",
          "name": "stdout",
          "text": [
            "0.4106495986491082\n"
          ]
        }
      ]
    },
    {
      "cell_type": "markdown",
      "source": [
        "For each one-unit increase in study time, the log-odds of a student being in the High performance category (compared to the baseline category Low) increases by approximately 0.41, holding all other variables constant.\n",
        "\n",
        "In simpler terms, more study time is associated with a higher likelihood of achieving high final grades relative to low performance."
      ],
      "metadata": {
        "id": "Wi7VuRHgy6D_"
      }
    },
    {
      "cell_type": "markdown",
      "source": [
        "**Task 4: Evaluate Model Accuracy**"
      ],
      "metadata": {
        "id": "RYDGmEQIy-p0"
      }
    },
    {
      "cell_type": "code",
      "source": [
        "from sklearn.metrics import confusion_matrix, accuracy_score, ConfusionMatrixDisplay\n",
        "y_pred = model.predict(X_test)\n",
        "cm = confusion_matrix(y_test, y_pred, labels=model.classes_)\n",
        "disp = ConfusionMatrixDisplay(confusion_matrix=cm, display_labels=model.classes_)\n",
        "disp.plot()\n",
        "plt.title(\"Confusion Matrix\")\n",
        "plt.show()\n",
        "acc = accuracy_score(y_test, y_pred)\n",
        "print(f\"Overall Accuracy: {acc:.2f}\")\n"
      ],
      "metadata": {
        "colab": {
          "base_uri": "https://localhost:8080/",
          "height": 490
        },
        "id": "hV2FYwa8y5un",
        "outputId": "51877355-24fc-4f99-8d0a-dcff17f06a58"
      },
      "execution_count": 19,
      "outputs": [
        {
          "output_type": "display_data",
          "data": {
            "text/plain": [
              "<Figure size 640x480 with 2 Axes>"
            ],
            "image/png": "[encoded data removed]"
          },
          "metadata": {}
        },
        {
          "output_type": "stream",
          "name": "stdout",
          "text": [
            "Overall Accuracy: 0.64\n"
          ]
        }
      ]
    }
  ]
}