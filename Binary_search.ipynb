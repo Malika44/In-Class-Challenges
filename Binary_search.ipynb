{
  "nbformat": 4,
  "nbformat_minor": 0,
  "metadata": {
    "colab": {
      "provenance": [],
      "authorship_tag": "ABX9TyOMy1Hy3mltlknIlVTA9a4q",
      "include_colab_link": true
    },
    "kernelspec": {
      "name": "python3",
      "display_name": "Python 3"
    },
    "language_info": {
      "name": "python"
    }
  },
  "cells": [
    {
      "cell_type": "markdown",
      "metadata": {
        "id": "view-in-github",
        "colab_type": "text"
      },
      "source": [
        "<a href=\"https://colab.research.google.com/github/Malika44/In-Class-Challenges/blob/main/Binary_search.ipynb\" target=\"_parent\"><img src=\"https://colab.research.google.com/assets/colab-badge.svg\" alt=\"Open In Colab\"/></a>"
      ]
    },
    {
      "cell_type": "code",
      "execution_count": 3,
      "metadata": {
        "colab": {
          "base_uri": "https://localhost:8080/"
        },
        "id": "YAj6YA87aaNm",
        "outputId": "ff28751b-aea4-4e92-c5c4-61639e9c1822"
      },
      "outputs": [
        {
          "output_type": "stream",
          "name": "stdout",
          "text": [
            "Value 7 found at index 3\n"
          ]
        }
      ],
      "source": [
        "numbers = [1, 3, 5, 7, 9, 11, 13]\n",
        "target = 7\n",
        "\n",
        "left, right = 0, len(numbers) - 1\n",
        "index = -1  # Default if not found\n",
        "\n",
        "while left <= right:\n",
        "    middle = (left + right) // 2\n",
        "    if numbers[middle] == target:\n",
        "        index = middle\n",
        "        break\n",
        "    elif target < numbers[middle]:\n",
        "        right = middle - 1\n",
        "    else:\n",
        "        left = middle + 1\n",
        "\n",
        "if index != -1:\n",
        "    print(f\"Value {target} found at index {index}\")\n",
        "else:\n",
        "    print(f\"Value {target} not found in the list\")\n"
      ]
    }
  ]
}